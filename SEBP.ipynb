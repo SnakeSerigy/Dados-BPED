{
 "cells": [
  {
   "cell_type": "code",
   "execution_count": 1,
   "id": "c6b9cecb",
   "metadata": {},
   "outputs": [],
   "source": [
    "import xlrd\n",
    "\n",
    "workbook = xlrd.open_workbook('SBPS_2021.xls')"
   ]
  },
  {
   "cell_type": "code",
   "execution_count": 2,
   "id": "30cc36c1",
   "metadata": {},
   "outputs": [],
   "source": [
    "worksheet = workbook.sheet_by_index(0)"
   ]
  },
  {
   "cell_type": "code",
   "execution_count": 3,
   "id": "88f568af",
   "metadata": {},
   "outputs": [
    {
     "name": "stdout",
     "output_type": "stream",
     "text": [
      "['MUNICÍPIO', 'NOME DA BIBLIOTECA', 'ENDEREÇO DE ENTREGA', 'ORGÃO PÚBLICO RESPONSÁVEL', 'SERVIDOR PÚBLICO RESPONSÁVEL']\n"
     ]
    }
   ],
   "source": [
    "header = list()\n",
    "\n",
    "for i in range(0, 5):\n",
    "    header.append(worksheet.cell(0, i).value)\n",
    "\n",
    "print(header)"
   ]
  },
  {
   "cell_type": "code",
   "execution_count": 4,
   "id": "4843c8ac",
   "metadata": {},
   "outputs": [],
   "source": [
    "dados = dict()\n",
    "dados2 = list()\n",
    "\n",
    "for i in range(0, len(header)):\n",
    "    for j in range(1 , 81):\n",
    "        dados2.append(worksheet.cell(j, i).value)"
   ]
  },
  {
   "cell_type": "code",
   "execution_count": 5,
   "id": "b7d931ab",
   "metadata": {},
   "outputs": [
    {
     "name": "stdout",
     "output_type": "stream",
     "text": [
      "The number of worksheets is 1\n",
      "Worksheet name(s): ['Table 1']\n",
      "Table 1 81 6\n",
      "Cell D30 is INDIAROBA\n"
     ]
    }
   ],
   "source": [
    "print(\"The number of worksheets is {0}\".format(workbook.nsheets))\n",
    "print(\"Worksheet name(s): {0}\".format(workbook.sheet_names()))\n",
    "\n",
    "sh = workbook.sheet_by_index(0)\n",
    "\n",
    "print(\"{0} {1} {2}\".format(sh.name, sh.nrows, sh.ncols))\n",
    "print(\"Cell D30 is {0}\".format(sh.cell_value(rowx=29, colx=0)))"
   ]
  },
  {
   "cell_type": "code",
   "execution_count": 9,
   "id": "b0cc8cca",
   "metadata": {},
   "outputs": [
    {
     "name": "stdout",
     "output_type": "stream",
     "text": [
      "[text:'AMPARO DO SÃO FRANCISCO', text:'Biblioteca Pública Municipal Antonio Freire De Souza', text:'Av. Abraão Freire', text:'Secretaria Municipal de Educação', text:'Hercules Soares dos Santos', number:79988180820.0]\n",
      "[text:'AQUIDABÃ', text:'Biblioteca Pública Municipal Professor Lauro Rocha\\nDe Lima', text:'Av. Paraguai', text:'Secretaria Municipal de Educação', text:'Carlos Alberto Matos de Lima', number:999830935.0]\n",
      "[text:'ARACAJU', text:'Biblioteca Pública Municipal Biblioteca Pública\\nEstadual Epiphanio Doria', text:'Rua Leonardo Leite, S/N', text:'SEDUC', text:'Juciene Maria Santos de Jesus', text:'3179-1907']\n",
      "[text:'ARACAJU', text:'Biblioteca Pública Municipal Ivone Menezes', text:'Praça Major Edeltrudes Teles, S/N- Final de Linha do Conjunto Augusto\\nFranco - Bairro Farolândia', text:'Fundação Cultural Cidade de Aracaju', text:'Fabiana Bispo Santos Cruz', number:988010344.0]\n",
      "[text:'ARACAJU', text:'Biblioteca Pública Mário Cabral', text:'Praça General Valadão s/n', text:'Fundação Cultural\\nCidade de Aracaju', text:'VERONICA CARDOSO\\nDE SANTANA', number:79998952476.0]\n",
      "[text:'ARACAJU', text:'Biblioteca Pública Municipal Clodomir Silva', text:'R. Santa Catarina, 314 - Siqueira\\nCampos, Aracaju - SE, 49075-520', text:'Fundação Cultural\\nCidade de Aracaju', text:'Nancy Teresa\\nVasconcelos Lima', text:'(79)3179-6411 /\\n998381710']\n",
      "[text:'ARAUÁ', text:'Biblioteca Pública Municipal Afonso De Menezes', text:'Praça Coronel João Neto, s/n, Centro,\\n49220-000, Arauá, SE', text:'Cultura', text:'José Marcos Araújo Lima', number:79998924630.0]\n",
      "[text:'AREIA BRANCA', text:'Biblioteca Pública Municipal Professora Josefina S De\\nAraujo', text:'Rua Sen. Valter Franco', text:'Secretaria de cultura turismo esporte e lazer', text:'Maria Djalma Dias Ribeiro', text:'98856-7370']\n",
      "[text:'BARRA DOS COQUEIROS', text:'Biblioteca Pública Municipal Maria Helena Reis De Moura', text:'Av. Moisés Gomes Pereira, 16, Barra dos Coqueiros - SE, 49140-000', text:'Cultura', text:'Maria da Silva Santos', number:999873797.0]\n",
      "[text:'BOQUIM', text:'Biblioteca Pública Municipal Hermes Fontes', text:'Av. Manoel Eugênio, S/N - Centro - Boquim/SE', text:'Secretaria de Educação, Cultura, Esporte, Lazer e Turismo.', text:'Maria Caitana de Lima Mota', number:79988421229.0]\n",
      "[text:'BREJO GRANDE', text:'Biblioteca Pública Municipal Erílio Mateus', text:'Rua Juvina Torjal', text:'Cultura', text:'Jeane Guedes dos\\nSantos', number:79998153623.0]\n",
      "[text:'CAMPO DO BRITO', text:'Biblioteca Pública Municipal Emeliano José Ribeiro', text:'Pça Nossa Sra da Boa Hora, n° 29 - Centro. CEP 49520 -000', text:'Secretaria de Educação', text:'Ana Maria Menezes', number:988440088.0]\n",
      "[text:'CANHOBA', text:'Biblioteca Pública Municipal Maria Luciana Dos\\nSantos', text:'Av. Eronides Ferreira de Carvalho', text:'Cultura', text:'Solange Vieira de Matos', text:'79 998276508 /\\n999107272']\n",
      "[text:'CANINDÉ DO SÃO\\nFRANCISCO', text:'Biblioteca Pública Municipal Promotor De Justiça\\nPaulo Costa', text:'Praça Ananibas Fernandes dos Santos, S/N', text:'Turismo', text:'roseliamariana44@hotm ail.com', number:79999824699.0]\n",
      "[text:'CAPELA', text:'Biblioteca Pública Municipal Messias Sukita Santos', text:'Rua Coelho e Campos, 1201', text:'Secretaria da Cultura, Comunicação Social e\\nEventos', text:'Márcio Fabiano Santana de Melo', number:7932632020.0]\n",
      "[text:'CARIRA', text:'Biblioteca Pública Municipal Emeliano José Ribeiro', text:'R. Ananias José dos Santos, 628 - 722', text:'Secretaria ou Diretoria de Educação', text:'José Hilton Pereira de Lima', text:'9 9904 9391']\n",
      "[text:'CARMÓPOLIS', text:'Biblioteca Pública Municipal José Amado Alves', text:'Av. Getúlio Vargas, sem ñ. Ém frente\\nao Gbarbosa', text:'Administração', text:'Cristiane Santos Dantas', number:998512610.0]\n",
      "[text:'CEDRO DE SÃO JOÃO', text:'Biblioteca Pública Municipal José Álvares Da Rocha', text:'R. Antônio Batista, 111', text:'Educação', text:'Antônio Roberto Rocha', text:'9 9810 0012']\n",
      "[text:'CRISTINAPÓLIS', text:'Biblioteca Pública Municipal  José Genésio Monte\\nAlegre de Góis', text:'Rua Epaminondas Menezes Reis s/n', text:'Cultura', text:'Néia Brasil', text:'79 9 88529038']\n",
      "[text:'CUMBE', text:'Biblioteca Pública Municipal Murilo Xavier', text:'Rua José Arquibaldo de Araújo\\nMendonça', text:'Secretaria Municipal de\\nEducação', text:'Ítalo dos Santos', number:998464003.0]\n",
      "[text:'DIVINA PASTORA', text:'Biblioteca Pública Municipal  Irmã Vera França', text:'Praça da Matriz, 49', text:'Educação', text:'Shirley da Anunciação\\nCruz', text:'3271 1239 / 999667328']\n",
      "[text:'ESTÂNCIA', text:'Biblioteca Pública Municipal Monsenhor Silveira', text:'Praça Jackson Figueiredo, 49. Centro', text:'Secretária de Cultura e\\nTurismo', text:'Mariana Barreto\\nNascimento', text:'79-99946-2927']\n",
      "[text:'FEIRA NOVA', text:'Biblioteca Pública Municipal Manoel Joaquim Dos Santos', text:'Praca Tancredo Neves - s/n', text:'EDUCAÇÃO, CULTURA,ESPORTE E\\nLAZER', text:'Avenida Jose Alves de Queiroz, 310', text:'999967189 / 33131074']\n",
      "[text:'FREI PAULO', text:'Biblioteca Pública Municipal Josias Sousa Macedo', text:'Praça João Teles da Costa', text:'Barbosa, s/n', text:'Iracema Matos dos Santos', number:981690326.0]\n",
      "[text:'GARARU', text:'Biblioteca Pública Municipal Olga do Couto Correira', text:'Complexo turístico Orla de Gararu', text:'Secretaria de Esportes Eventos Cultura e\\nTurismo', text:'Adalmir Medeiros Filho', number:79999332313.0]\n",
      "[text:'GENERAL MAYNARD', text:'Biblioteca Pública Municipal Professora Maria de Lourdes Cruz', text:'Rua Santa Cruz', text:'Aqui estamos com uma dúvida se é educação ou cultura, pois não temos um documento\\ninformando', text:'Maira', text:'79 9 9919-4188']\n",
      "[text:'GRACHO CARDOSO', text:'Biblioteca Pública Municipal  de Graccho Cardoso', text:'Rod. P Aquidabã, 15a', text:'Secretaria de Educação', text:'Clezimary', number:996114187.0]\n",
      "[text:'ILHA DAS FLORES', text:'Biblioteca Pública Municipal Santa Maria Gorette', text:'Praça: Carlos Roberto Oliveira\\nCavalcante s/n', text:'Secretaria Municipal\\nEsporte Cultura', text:'Norma cravo dos santos', number:79999472522.0]\n",
      "[text:'INDIAROBA', text:'Biblioteca Pública Municipal  Judite Rocha De Oliveira', text:'Praça dos Pescadores, 19 - Centro', text:'Cultura, esporte e Juventude', text:'Reinaldo Martins', number:988369758.0]\n",
      "[text:'ITABAIANA', text:'Biblioteca Pública Municipal Dr. Florival De Oliveira', text:'Rua Álvaro Fonseca de Oliveira,466', text:'Secretária de Cultura, Esporte, Lazer e\\nJuventude', text:'Maria Vandineide Teles Silva', text:'79 9 9811_2875']\n",
      "[text:'ITABAININHA', text:'Biblioteca Pública Municipal Valdete Dória', text:'R. Euríco M. Alves, 73', text:'Secretaria de Comunicação, Esporte,\\nLazer e Cultura', text:'Márcio Lima dos Santos Junior', number:998311966.0]\n",
      "[text:'ITABI', text:'Biblioteca Pública Municipal Terezinha Feitosa Melo', text:'Praça do Cruzeiro', text:'Secretaria da Educação', text:'Luiz Sérgio Gomes', text:'79 998129143 /\\n9.9987.8454']\n",
      "[text:\"ITAPORANGA D'AJUDA\", text:'Biblioteca Pública Municipal Padre Everaldo Lima\\nViana', text:'Rua Coronel domingos Dias S/N', text:'Secretário de Cultura e Turismo', text:'Palmiro Fontes de Oliveira', text:'79- 3264-2738 /\\n32642700']\n",
      "[text:'JAPARATUBA', text:'Biblioteca Pública Municipal  Julita Dorotheu\\nGuimarães', text:'Av. Otávio Aciole Sobral 311', text:'Educação', text:'Marilza dos Santos', number:999582427.0]\n",
      "[text:'JAPOATÃ', text:'Biblioteca Pública Municipal Maria José Vieira Caldas', text:'Praça Dr. Eronildes de Carvalho,  S/N', text:'Educação, Cultura, Esporte e Lazer', text:'José Davi Nascimento Silva', number:79999550090.0]\n",
      "[text:'LAGARTO', text:'Biblioteca Pública Municipal Maria Alice Cirila Da Silva', text:'Av. Presidente Kennedy, 302', text:'Secretaria Municipal de Cultura', text:'Geraldine Leal Martins /\\nAssuero Cardoso Barbosa', number:79996615570.0]\n",
      "[text:'LAGARTO', text:'Biblioteca Pública Municipal  José Vicente De Carvalho', text:'Av. Presidente Kennedy, 302', text:'Secretaria Municipal de Cultura', text:'Geraldine Leal Martins /\\nAssuero Cardoso Barbosa', number:79996615570.0]\n",
      "[text:'LARANJEIRAS', text:'Biblioteca Pública Municipal João Ribeiro', text:'Rua Tobias Barreto', text:'Secretaria Municipal de\\nCultura e Turismo', text:'Plácido Lyra', number:79998098979.0]\n",
      "[text:'MACAMBIRA', text:'Biblioteca Pública Municipal Padre Raul Borges', text:'Av. Ana Luiza Dortas Valadares s/n', text:'Secretaria da Educação', text:'Charles de Carvalho', text:'79 9 9823-6836']\n",
      "[text:'MALHADA DOS BOIS', text:'Biblioteca Pública Municipal  Liege Aguiar Caldas\\nVieira', text:'RUA C CONJUNTO MARIA ROSA SILVA,112, CENTRO', text:'Secretaria de Educação e Cultura', text:'Mônica Almeida Santos', text:'9.9816  8479']\n",
      "[text:'MALHADOR', text:'Biblioteca Pública Municipal Silvina Alves Dos Santos', text:'Rua Ananias dos santos', text:'Secretaria de educação', text:'Rosileide leandro da silva costa', number:79981596441.0]\n",
      "[text:'MARUIM', text:'Biblioteca Pública Municipal Josias Vieira Dantas', text:'Praça Barão de Maruim s/n', text:'Secretaria Municipal de\\nCultura e Turismo', text:'Joelma Ferreira Martins\\nSantos', text:'79 98108-4075']\n",
      "[text:'MOITA BONITA', text:'Biblioteca Pública Municipal Moita Bonita', text:'Rua São Vicente n°126', text:'A secretaria de Cultura', text:'Maria lenecleide de Jsus\\nFerraz', number:793451135.0]\n",
      "[text:'MONTE ALEGRE', text:'Biblioteca Pública Municipal Elizabete Soares Dos\\nSantos', text:'Praça Presidente Medice s/n', text:'Secretaria municipal de educação', text:'Aliny Kelly Amorim Santana', text:'(79) 99818-2057']\n",
      "[text:'MURIBECA', text:'Biblioteca Pública Municipal Jailson Pinheiro Silva', text:'Av. Almirante Barroso, 640', text:'Educação', text:'Maria Ivone Correia Matos', text:'79 33421215 /\\n79996602723']\n",
      "[text:'NEÓPOLIS', text:'Biblioteca Pública Municipal Joaquim Valadão Bastos', text:'Av. Getúlio Vargas, Neópolis', text:'Secretaria Municipal da Educação, do Desporto e\\nLazer', text:'Amilton Amorim Santos', number:33441200.0]\n",
      "[text:'NOSSA SENHORA\\nAPARECIDA', text:'Biblioteca Pública Municipal João Muniz Filho', text:'Rua José Wilson Menezes , 269', text:'Secretária de Cultura esporte e lazer', text:'Sheila Cristina Silva Melo', text:'99912_4219']\n",
      "[text:'NOSSA SENHORA DA GLÓRIA', text:'Biblioteca Pública Municipal Monteiro Lobato', text:'Praça Filemon Bezerra Lemos, 256', text:'Secretaria Municipal de Educação e Cultura', text:'Miriam Amaral Pereira', text:'79 99954 0327']\n",
      "[text:'NOSSA SENHORA DAS DORES', text:'Biblioteca Pública Municipal Álvaro De Souza Brito', text:'Rua Gildo de Souza, Centro', text:'Secretaria de cultura', text:'Matheus Garcia Santana', number:79999478573.0]\n",
      "[text:'NOSSA SENHORA DE\\nLOURDES', text:'Biblioteca Pública Municipal Lindinalva Rodrigues De\\nOliveira', text:'Av. Sen. Leite Neto, 121', text:'Secretaria de Educação, Cultura', text:'Moana Ferreira dos Santos', number:996578708.0]\n",
      "[text:'NOSSA SENHORA DO\\nSOCORRO', text:'Biblioteca Pública Municipal Alaide dos Santos', text:'R. Padre Manoel Gomes, 102-382', text:'Secretário de Cultura', text:'Edenilton Sales trabalha', text:'9 9634 9125 /\\n9.8816.0879']\n",
      "[text:'PACATUBA', text:'Biblioteca Pública Municipal  Professor Robson', text:'Praça 31 Março, 39', text:'Secretaria Municipal de\\nCultura', text:'Genivaldo Vieira dos\\nSantos', number:998951727.0]\n",
      "[text:'PEDRA MOLE', text:'Biblioteca Pública Municipal Pedro De Ferreira Do\\nNascimento', text:'PRAÇA DOS ESTUDANTES S/N.', text:'Secretaria Municipal de Educação', text:'ADILMA DE JESUS SANTOS', number:999742149.0]\n",
      "[text:'PEDRINHAS', text:'Biblioteca Pública Municipal Comunitária Santa Terezinha Do Menino Jesus', text:'RUA DO RIAÇÃO Nº119', text:'Secretaria Municipal de Educação, Cultura e\\nLazer', text:'CLEISY SILVA ALVES', number:79999501291.0]\n",
      "[text:'PINHÃO', text:'Biblioteca Pública Municipal Pedro De Ferreira Do\\nNascimento', text:'Avenida José Hollemberg Leite', text:'Secretaria de Educação', text:'Cristiane dos Santos', text:'79999663804 /\\n34611242']\n",
      "[text:'PIRAMBU', text:'Biblioteca Pública Municipal de Pirambu', text:'Rua Gonçalo Rolemberg, s/n,\\nPirambu', text:'Secretaria Municipal de\\nCultura', text:'Thiagony', text:'9 9178 0217']\n",
      "[text:'POÇO REDONDO', text:'Biblioteca Pública Municipal Governador Arnaldo\\nRollemberg Garcez', text:'Avenida Poço Redondo - s/n An 1', text:'Educação', text:'Elizana', text:'9 9939 2663']\n",
      "[text:'POÇO VERDE', text:'Biblioteca Pública Municipal Epifanio da Fonseca', text:'Av. Santa Cruz, S/N', text:'Prefeitura', text:'Magna Cardoso Oliveira', number:79998182001.0]\n",
      "[text:'PORTO DA FOLHA', text:'Biblioteca Pública Municipal Frei Honório Rito de\\nLeão Brasil', text:'Av. Minervino de Farias Lima', text:'Cultura', text:'Maria Meire de Freitas Souza', number:999724135.0]\n",
      "[text:'PRÓPRIA', text:'Biblioteca Pública Municipal  Professor Robson', text:'R. Dom José Vicente Távora, 185', text:'Cultura', text:'Renisson Félix', text:'9 9958 9239']\n",
      "[text:'RIACHÃO DO DANTAS', text:'Biblioteca Pública Municipal Osman Hora Fontes', text:'Travessa Frei Idelfonso S/N', text:'Secretaria de Educação', text:'José Sérgio Costa\\nFrança', number:999186040.0]\n",
      "[text:'RIACHUELO', text:'Biblioteca Pública Municipal Alaíde Ribeiro Leite', text:'Largo de São João nº5 Centro / casa', text:'Educação e Cultura', text:'Alcilene Rezende', text:'9 9855 7562 /\\n79988058101']\n",
      "[text:'RIBEIRÓPOLIS', text:'Biblioteca Pública Municipal Maria Ceres Silva', text:'Av Leandro Maciel s/n', text:'Secretaria de Educação', text:'Maria Jeane', text:'9 9900 1334']\n",
      "[text:'ROSÁRIO DO CATETE', text:'Biblioteca Pública Municipal João Batista De Morais\\nRibeiro', text:'Travessa Luiz Garcia', text:'Educação', text:'Elton Lima', text:'9 8833 5987']\n",
      "[text:'SALGADO', text:'Biblioteca Pública Municipal Ivonete Salgueiro', text:'Rua Felinto Alves de Carvalho, s/n', text:'Educação', text:'Claudinete coordenadora', text:'(79) 3651-1333 /\\n79999201761']\n",
      "[text:'SANTA LUZIA DO ITANHI', text:'Biblioteca Pública Municipal Camilo Calazans', text:'Praça Getúlio Vargas S/N', text:'Secretaria Municipal de\\nEducação', text:'Rosa Cristina Cardoso', text:'79 9609-8987']\n",
      "[text:'SANTA ROSA DE LIMA', text:'Biblioteca Pública Municipal de Santa Rosa de Lima', text:'R. Alzira Azevedo, 81', text:'Educação', text:'Fabiana', text:'9 9848 3490']\n",
      "[text:'SANTANA DO SÃO\\nFRANCISCO', text:'Biblioteca Pública Municipal Messias da Silva Passos', text:'Rua E, 2, Santana do São Francisco', text:'Secretaria de Educação', text:'Svetlana da Silva Ribeiro Chaves', number:999899372.0]\n",
      "[text:'SANTO AMARO DAS BROTAS', text:'Biblioteca Pública Municipal Manoel dos Santos', text:'R. Sd. Evaristo, 75', text:'Secretaria de Cultura', text:'Márcio (coordenador)', number:32661215.0]\n",
      "[text:'SÃO CRISTOVÃO', text:'Biblioteca Pública Municipal Prof. Luiz Alberto', text:'Praça São Francisco, S/N - Centro Histórico; São Cristóvão/SE - CEP\\n49100-000', text:'Fundação Municipal de Cultura e Turismo \"João\\nBebe Água\"', text:'Rafaela Pereira dos Santos', text:'79 98825-1314']\n",
      "[text:'SÃO CRISTOVÃO', text:'Biblioteca Pública Municipal Senador Lourival Baptista', text:'Rua Horácio Souza Lima, 148 - Rosa Elze - São Cristóvão/SE - CEP 49100-\\n000', text:'Fundação Municipal de Cultura e Turismo \"João\\nBebe Água\"', text:'Rafaela Pereira dos Santos', text:'79 98825-1314']\n",
      "[text:'SÃO DOMINGOS', text:'Biblioteca Pública Municipal Rui Barbosa', text:'Praça José Mecenas Filho', text:'Secretaria Municipal da\\nEducação', text:'Josefa Basto de Araujo', number:79998798506.0]\n",
      "[text:'SÃO FRANCISCO', text:'Biblioteca Pública Municipal Neildes Marques do\\nNascimento', text:'São Francisco - SE, 49945-000', text:'Educação', text:'Renato Rodrigues Santos', text:'9 9830 9019']\n",
      "[text:'SÃO MIGUEL DO ALEIXO', text:'Biblioteca Pública Municipal Deputado Baltazar\\nFrancisco dos Santos', text:'Av. 26 de Novembro', text:'Secretaria de Cultura', text:'Elaine Barreto', number:999957161.0]\n",
      "[text:'SIMÃO DIAS', text:'Biblioteca Pública Municipal Lucila Macedo Déda', text:'Rua Cônego Andrade, 224', text:'Secretaria Municipal de\\nEducação e Cultura', text:'Geraldine Leal Martins', number:79996615570.0]\n",
      "[text:'SIRIRI', text:'Biblioteca Pública Municipal Professora Neuzisse Barreto Lima', text:'Praça Dr. Mario Pinoti, 316 - Centro', text:'SecretarioaEsporte, Lazer, Turismo e Cultura', text:'Diego Cardoso Andrade Oliveira', text:'9 9847 9694']\n",
      "[text:'TELHA', text:'Biblioteca Pública Municipal Wilio Dias Bezerra', text:'Rua; José pereira da Silva', text:'Educação', text:'Paulo Sérgio Silva Souza', number:79999162788.0]\n",
      "[text:'TOBIAS BARRETO', text:'Biblioteca Pública Municipal Francisco Barreto Do\\nRosário', text:'Praça da Bandeira 446 Centro', text:'Secretaria Municipal de Cultura', text:'Rosineide Ribeiro Dos santos', number:79998654345.0]\n",
      "[text:'TOMAR DO GERU', text:'Biblioteca Pública Municipal Padre Arnaldo De Matos Conceição', text:'Praça da Bandeira', text:'Secretaria de Educação / Secretaria de\\nAdministração', text:'Iara Soares Costa', text:'9 9831 4963']\n",
      "[text:'UMBAÚBA', text:'Biblioteca Pública Municipal Professor Clóvis Messias\\nMendes', text:'AV. Manoel Fernandes, S/N', text:'Cultura', text:'Angelita dos Santos', text:'79 35462179 / 79\\n996890311']\n"
     ]
    }
   ],
   "source": [
    "lista = list()\n",
    "for rx in range(1, sh.nrows):\n",
    "    lista.append(sh.row(rx))\n",
    "    print(sh.row(rx))"
   ]
  },
  {
   "cell_type": "code",
   "execution_count": 17,
   "id": "498e3d95",
   "metadata": {},
   "outputs": [
    {
     "name": "stdout",
     "output_type": "stream",
     "text": [
      "['text', \"'AMPARO DO SÃO FRANCISCO'\"]\n",
      "['text', \"'Biblioteca Pública Municipal Antonio Freire De Souza'\"]\n",
      "['text', \"'Av. Abraão Freire'\"]\n",
      "['text', \"'Secretaria Municipal de Educação'\"]\n",
      "['text', \"'Hercules Soares dos Santos'\"]\n",
      "['number', '79988180820.0']\n"
     ]
    }
   ],
   "source": [
    "for i in lista[0]:\n",
    "    print(str(i).split(':'))"
   ]
  },
  {
   "cell_type": "code",
   "execution_count": null,
   "id": "f92581c8",
   "metadata": {},
   "outputs": [],
   "source": []
  }
 ],
 "metadata": {
  "kernelspec": {
   "display_name": "Python 3",
   "language": "python",
   "name": "python3"
  },
  "language_info": {
   "codemirror_mode": {
    "name": "ipython",
    "version": 3
   },
   "file_extension": ".py",
   "mimetype": "text/x-python",
   "name": "python",
   "nbconvert_exporter": "python",
   "pygments_lexer": "ipython3",
   "version": "3.8.8"
  }
 },
 "nbformat": 4,
 "nbformat_minor": 5
}
